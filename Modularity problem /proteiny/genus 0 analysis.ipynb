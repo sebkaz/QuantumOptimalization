{
 "cells": [
  {
   "cell_type": "markdown",
   "metadata": {},
   "source": [
    "# Eksploracyjna Analiza struktur RNA dla których genus = 0 "
   ]
  },
  {
   "cell_type": "code",
   "execution_count": 1,
   "metadata": {},
   "outputs": [
    {
     "ename": "ModuleNotFoundError",
     "evalue": "No module named 'seaborn'",
     "output_type": "error",
     "traceback": [
      "\u001b[0;31m---------------------------------------------------------------------------\u001b[0m",
      "\u001b[0;31mModuleNotFoundError\u001b[0m                       Traceback (most recent call last)",
      "Input \u001b[0;32mIn [1]\u001b[0m, in \u001b[0;36m<module>\u001b[0;34m\u001b[0m\n\u001b[1;32m      2\u001b[0m \u001b[38;5;28;01mimport\u001b[39;00m \u001b[38;5;21;01mnumpy\u001b[39;00m \u001b[38;5;28;01mas\u001b[39;00m \u001b[38;5;21;01mnp\u001b[39;00m\n\u001b[1;32m      3\u001b[0m \u001b[38;5;28;01mimport\u001b[39;00m \u001b[38;5;21;01mmatplotlib\u001b[39;00m\u001b[38;5;21;01m.\u001b[39;00m\u001b[38;5;21;01mpyplot\u001b[39;00m \u001b[38;5;28;01mas\u001b[39;00m \u001b[38;5;21;01mplt\u001b[39;00m \n\u001b[0;32m----> 4\u001b[0m \u001b[38;5;28;01mimport\u001b[39;00m \u001b[38;5;21;01mseaborn\u001b[39;00m \u001b[38;5;28;01mas\u001b[39;00m \u001b[38;5;21;01msns\u001b[39;00m\n",
      "\u001b[0;31mModuleNotFoundError\u001b[0m: No module named 'seaborn'"
     ]
    }
   ],
   "source": [
    "import pandas as pd\n",
    "import numpy as np\n",
    "import matplotlib.pyplot as plt \n",
    "import seaborn as sns"
   ]
  },
  {
   "cell_type": "code",
   "execution_count": 37,
   "metadata": {},
   "outputs": [],
   "source": [
    "rna = pd.read_csv('genus0RNA.csv', sep=';')"
   ]
  },
  {
   "cell_type": "code",
   "execution_count": 38,
   "metadata": {},
   "outputs": [],
   "source": [
    "wszystkie_rna = len(rna)\n",
    "mean_rna = rna['sequence length'].mean()\n",
    "median_rna = rna['sequence length'].median()"
   ]
  },
  {
   "cell_type": "code",
   "execution_count": 39,
   "metadata": {},
   "outputs": [
    {
     "name": "stdout",
     "output_type": "stream",
     "text": [
      "w bazie mamy 417 truktur RNA o genusie 0\n",
      "średnia długość łańcuchów: 58.41\n",
      "mediana długości łańcuchów: 24.0\n",
      "oznacza to, ze mamy rozklad skosny gdzie pojawiły się wartości skrajne po prawej stronie - dlugie lancuchy\n"
     ]
    }
   ],
   "source": [
    "print(f\"w bazie mamy {wszystkie_rna} truktur RNA o genusie 0\")\n",
    "print(\"średnia długość łańcuchów: {:.2f}\".format(mean_rna))\n",
    "print(\"mediana długości łańcuchów: {}\".format(median_rna))\n",
    "\n",
    "print(\"oznacza to, ze mamy rozklad skosny gdzie pojawiły się wartości skrajne po prawej stronie - dlugie lancuchy\")"
   ]
  },
  {
   "cell_type": "code",
   "execution_count": 40,
   "metadata": {},
   "outputs": [
    {
     "data": {
      "text/plain": [
       "<AxesSubplot:xlabel='sequence length', ylabel='Count'>"
      ]
     },
     "execution_count": 40,
     "metadata": {},
     "output_type": "execute_result"
    },
    {
     "data": {
      "image/png": "[encoded data removed]",
      "text/plain": [
       "<Figure size 432x288 with 1 Axes>"
      ]
     },
     "metadata": {
      "needs_background": "light"
     },
     "output_type": "display_data"
    }
   ],
   "source": [
    "# histogram rozkładu ze względu na długość\n",
    "sns.histplot(rna['sequence length'])"
   ]
  },
  {
   "cell_type": "markdown",
   "metadata": {},
   "source": [
    "Na wykresie widac kilka struktur, ktorych dlugosc jest większa niz 1000. \n",
    "Wycięcie długich łańcuchów (powyzej 1000 elementów) powinno poprawic sytuację. "
   ]
  },
  {
   "cell_type": "markdown",
   "metadata": {},
   "source": [
    "### dlugie struktury"
   ]
  },
  {
   "cell_type": "code",
   "execution_count": 41,
   "metadata": {},
   "outputs": [
    {
     "data": {
      "text/html": [
       "<div>\n",
       "<style scoped>\n",
       "    .dataframe tbody tr th:only-of-type {\n",
       "        vertical-align: middle;\n",
       "    }\n",
       "\n",
       "    .dataframe tbody tr th {\n",
       "        vertical-align: top;\n",
       "    }\n",
       "\n",
       "    .dataframe thead th {\n",
       "        text-align: right;\n",
       "    }\n",
       "</style>\n",
       "<table border=\"1\" class=\"dataframe\">\n",
       "  <thead>\n",
       "    <tr style=\"text-align: right;\">\n",
       "      <th></th>\n",
       "      <th>pdbid</th>\n",
       "      <th>chain</th>\n",
       "      <th>genus deposition date</th>\n",
       "      <th>pdb deposition date</th>\n",
       "      <th>total genus</th>\n",
       "      <th>sequence length</th>\n",
       "    </tr>\n",
       "  </thead>\n",
       "  <tbody>\n",
       "    <tr>\n",
       "      <th>0</th>\n",
       "      <td>5gmk</td>\n",
       "      <td>L</td>\n",
       "      <td>2019-07-10</td>\n",
       "      <td>2016-07-14</td>\n",
       "      <td>0</td>\n",
       "      <td>1120</td>\n",
       "    </tr>\n",
       "    <tr>\n",
       "      <th>1</th>\n",
       "      <td>5lj3</td>\n",
       "      <td>Z</td>\n",
       "      <td>2019-07-10</td>\n",
       "      <td>2016-07-17</td>\n",
       "      <td>0</td>\n",
       "      <td>1167</td>\n",
       "    </tr>\n",
       "    <tr>\n",
       "      <th>2</th>\n",
       "      <td>5lj5</td>\n",
       "      <td>Z</td>\n",
       "      <td>2019-07-10</td>\n",
       "      <td>2016-07-17</td>\n",
       "      <td>0</td>\n",
       "      <td>1167</td>\n",
       "    </tr>\n",
       "    <tr>\n",
       "      <th>3</th>\n",
       "      <td>5wsg</td>\n",
       "      <td>L</td>\n",
       "      <td>2019-06-14</td>\n",
       "      <td>2016-12-07</td>\n",
       "      <td>0</td>\n",
       "      <td>1120</td>\n",
       "    </tr>\n",
       "    <tr>\n",
       "      <th>4</th>\n",
       "      <td>5a8l</td>\n",
       "      <td>B</td>\n",
       "      <td>2019-06-13</td>\n",
       "      <td>2015-07-16</td>\n",
       "      <td>0</td>\n",
       "      <td>1217</td>\n",
       "    </tr>\n",
       "    <tr>\n",
       "      <th>5</th>\n",
       "      <td>6bk8</td>\n",
       "      <td>2</td>\n",
       "      <td>2019-06-12</td>\n",
       "      <td>2017-11-07</td>\n",
       "      <td>0</td>\n",
       "      <td>1167</td>\n",
       "    </tr>\n",
       "    <tr>\n",
       "      <th>6</th>\n",
       "      <td>6j6g</td>\n",
       "      <td>L</td>\n",
       "      <td>2019-06-12</td>\n",
       "      <td>2019-01-15</td>\n",
       "      <td>0</td>\n",
       "      <td>1169</td>\n",
       "    </tr>\n",
       "    <tr>\n",
       "      <th>7</th>\n",
       "      <td>5y88</td>\n",
       "      <td>F</td>\n",
       "      <td>2019-06-12</td>\n",
       "      <td>2017-08-20</td>\n",
       "      <td>0</td>\n",
       "      <td>1120</td>\n",
       "    </tr>\n",
       "  </tbody>\n",
       "</table>\n",
       "</div>"
      ],
      "text/plain": [
       "  pdbid chain genus deposition date pdb deposition date  total genus  \\\n",
       "0  5gmk     L            2019-07-10          2016-07-14            0   \n",
       "1  5lj3     Z            2019-07-10          2016-07-17            0   \n",
       "2  5lj5     Z            2019-07-10          2016-07-17            0   \n",
       "3  5wsg     L            2019-06-14          2016-12-07            0   \n",
       "4  5a8l     B            2019-06-13          2015-07-16            0   \n",
       "5  6bk8     2            2019-06-12          2017-11-07            0   \n",
       "6  6j6g     L            2019-06-12          2019-01-15            0   \n",
       "7  5y88     F            2019-06-12          2017-08-20            0   \n",
       "\n",
       "   sequence length  \n",
       "0             1120  \n",
       "1             1167  \n",
       "2             1167  \n",
       "3             1120  \n",
       "4             1217  \n",
       "5             1167  \n",
       "6             1169  \n",
       "7             1120  "
      ]
     },
     "execution_count": 41,
     "metadata": {},
     "output_type": "execute_result"
    }
   ],
   "source": [
    "# anomalne wartości w długościach \n",
    "big_rna = rna[ rna['sequence length']>1000 ].reset_index(drop=True)\n",
    "big_rna"
   ]
  },
  {
   "cell_type": "markdown",
   "metadata": {},
   "source": [
    "mamy 8 struktur o genusie 0 i dlugosci powyzej 1000 elementow."
   ]
  },
  {
   "cell_type": "code",
   "execution_count": 42,
   "metadata": {},
   "outputs": [
    {
     "data": {
      "text/plain": [
       "8"
      ]
     },
     "execution_count": 42,
     "metadata": {},
     "output_type": "execute_result"
    }
   ],
   "source": [
    "len(big_rna)"
   ]
  },
  {
   "cell_type": "code",
   "execution_count": 43,
   "metadata": {},
   "outputs": [
    {
     "data": {
      "text/plain": [
       "<AxesSubplot:xlabel='sequence length', ylabel='Count'>"
      ]
     },
     "execution_count": 43,
     "metadata": {},
     "output_type": "execute_result"
    },
    {
     "data": {
      "image/png": "[encoded data removed]",
      "text/plain": [
       "<Figure size 432x288 with 1 Axes>"
      ]
     },
     "metadata": {
      "needs_background": "light"
     },
     "output_type": "display_data"
    }
   ],
   "source": [
    "# rozkład duzych struktur\n",
    "sns.histplot(big_rna['sequence length'])"
   ]
  },
  {
   "cell_type": "markdown",
   "metadata": {},
   "source": [
    "### bez duzych struktur"
   ]
  },
  {
   "cell_type": "code",
   "execution_count": 44,
   "metadata": {},
   "outputs": [],
   "source": [
    "rna_small = rna[ rna['sequence length']<1000 ].reset_index(drop=True)"
   ]
  },
  {
   "cell_type": "code",
   "execution_count": 45,
   "metadata": {},
   "outputs": [
    {
     "data": {
      "text/plain": [
       "<AxesSubplot:xlabel='sequence length', ylabel='Count'>"
      ]
     },
     "execution_count": 45,
     "metadata": {},
     "output_type": "execute_result"
    },
    {
     "data": {
      "image/png": "[encoded data removed]",
      "text/plain": [
       "<Figure size 432x288 with 1 Axes>"
      ]
     },
     "metadata": {
      "needs_background": "light"
     },
     "output_type": "display_data"
    }
   ],
   "source": [
    "sns.histplot(rna_small['sequence length'])"
   ]
  },
  {
   "cell_type": "code",
   "execution_count": 46,
   "metadata": {},
   "outputs": [],
   "source": [
    "wszystkie_rna = len(rna_small)\n",
    "mean_rna = rna_small['sequence length'].mean()\n",
    "median_rna = rna_small['sequence length'].median()"
   ]
  },
  {
   "cell_type": "code",
   "execution_count": 47,
   "metadata": {},
   "outputs": [
    {
     "name": "stdout",
     "output_type": "stream",
     "text": [
      "w bazie mamy 409 truktur RNA o genusie 0\n",
      "średnia długość łańcuchów: 36.95\n",
      "mediana długości łańcuchów: 23.0\n"
     ]
    }
   ],
   "source": [
    "print(f\"w bazie mamy {wszystkie_rna} truktur RNA o genusie 0\")\n",
    "print(\"średnia długość łańcuchów: {:.2f}\".format(mean_rna))\n",
    "print(\"mediana długości łańcuchów: {}\".format(median_rna))"
   ]
  },
  {
   "cell_type": "markdown",
   "metadata": {},
   "source": [
    "### mniejsze od 120"
   ]
  },
  {
   "cell_type": "code",
   "execution_count": 48,
   "metadata": {},
   "outputs": [],
   "source": [
    "rna_small120 = rna[ rna['sequence length']<120 ].reset_index(drop=True)"
   ]
  },
  {
   "cell_type": "code",
   "execution_count": 49,
   "metadata": {},
   "outputs": [
    {
     "data": {
      "text/plain": [
       "<AxesSubplot:xlabel='sequence length', ylabel='Count'>"
      ]
     },
     "execution_count": 49,
     "metadata": {},
     "output_type": "execute_result"
    },
    {
     "data": {
      "image/png": "[encoded data removed]",
      "text/plain": [
       "<Figure size 432x288 with 1 Axes>"
      ]
     },
     "metadata": {
      "needs_background": "light"
     },
     "output_type": "display_data"
    }
   ],
   "source": [
    "sns.histplot(rna_small120['sequence length'])"
   ]
  },
  {
   "cell_type": "code",
   "execution_count": 50,
   "metadata": {},
   "outputs": [
    {
     "name": "stdout",
     "output_type": "stream",
     "text": [
      "w bazie mamy 394 truktur RNA o genusie 0\n",
      "średnia długość łańcuchów: 31.84\n",
      "mediana długości łańcuchów: 22.0\n"
     ]
    }
   ],
   "source": [
    "wszystkie_rna = len(rna_small120)\n",
    "mean_rna = rna_small120['sequence length'].mean()\n",
    "median_rna = rna_small120['sequence length'].median()\n",
    "print(f\"w bazie mamy {wszystkie_rna} truktur RNA o genusie 0\")\n",
    "print(\"średnia długość łańcuchów: {:.2f}\".format(mean_rna))\n",
    "print(\"mediana długości łańcuchów: {}\".format(median_rna))"
   ]
  },
  {
   "cell_type": "markdown",
   "metadata": {},
   "source": [
    "### wieksze od 120 (mniejsze od 1000)"
   ]
  },
  {
   "cell_type": "code",
   "execution_count": 51,
   "metadata": {},
   "outputs": [],
   "source": [
    "rna_betwen = rna_small[ rna_small['sequence length']>120].sort_values([\"sequence length\"]).reset_index(drop=True)"
   ]
  },
  {
   "cell_type": "code",
   "execution_count": 52,
   "metadata": {},
   "outputs": [
    {
     "data": {
      "text/plain": [
       "<AxesSubplot:xlabel='sequence length', ylabel='Count'>"
      ]
     },
     "execution_count": 52,
     "metadata": {},
     "output_type": "execute_result"
    },
    {
     "data": {
      "image/png": "[encoded data removed]",
      "text/plain": [
       "<Figure size 432x288 with 1 Axes>"
      ]
     },
     "metadata": {
      "needs_background": "light"
     },
     "output_type": "display_data"
    }
   ],
   "source": [
    "sns.histplot(rna_betwen['sequence length'])"
   ]
  },
  {
   "cell_type": "markdown",
   "metadata": {},
   "source": [
    "### mniejsze od 60"
   ]
  },
  {
   "cell_type": "code",
   "execution_count": 53,
   "metadata": {},
   "outputs": [],
   "source": [
    "rna_small60 = rna[ rna['sequence length']<60 ].reset_index(drop=True)"
   ]
  },
  {
   "cell_type": "code",
   "execution_count": 54,
   "metadata": {},
   "outputs": [
    {
     "name": "stdout",
     "output_type": "stream",
     "text": [
      "w bazie mamy 340 truktur RNA o genusie 0\n",
      "średnia długość łańcuchów: 23.83\n",
      "mediana długości łańcuchów: 20.0\n"
     ]
    }
   ],
   "source": [
    "wszystkie_rna = len(rna_small60)\n",
    "mean_rna = rna_small60['sequence length'].mean()\n",
    "median_rna = rna_small60['sequence length'].median()\n",
    "print(f\"w bazie mamy {wszystkie_rna} truktur RNA o genusie 0\")\n",
    "print(\"średnia długość łańcuchów: {:.2f}\".format(mean_rna))\n",
    "print(\"mediana długości łańcuchów: {}\".format(median_rna))"
   ]
  },
  {
   "cell_type": "code",
   "execution_count": 55,
   "metadata": {},
   "outputs": [
    {
     "data": {
      "text/plain": [
       "<AxesSubplot:xlabel='sequence length', ylabel='Count'>"
      ]
     },
     "execution_count": 55,
     "metadata": {},
     "output_type": "execute_result"
    },
    {
     "data": {
      "image/png": "[encoded data removed]",
      "text/plain": [
       "<Figure size 432x288 with 1 Axes>"
      ]
     },
     "metadata": {
      "needs_background": "light"
     },
     "output_type": "display_data"
    }
   ],
   "source": [
    "sns.histplot(rna_small60['sequence length'])"
   ]
  },
  {
   "cell_type": "markdown",
   "metadata": {},
   "source": [
    "### mniejsze od 40"
   ]
  },
  {
   "cell_type": "code",
   "execution_count": 56,
   "metadata": {},
   "outputs": [],
   "source": [
    "rna_small40 = rna[ rna['sequence length']<40 ].reset_index(drop=True)"
   ]
  },
  {
   "cell_type": "code",
   "execution_count": 57,
   "metadata": {},
   "outputs": [
    {
     "name": "stdout",
     "output_type": "stream",
     "text": [
      "w bazie mamy 293 truktur RNA o genusie 0\n",
      "średnia długość łańcuchów: 19.82\n",
      "mediana długości łańcuchów: 19.0\n"
     ]
    }
   ],
   "source": [
    "wszystkie_rna = len(rna_small40)\n",
    "mean_rna = rna_small40['sequence length'].mean()\n",
    "median_rna = rna_small40['sequence length'].median()\n",
    "print(f\"w bazie mamy {wszystkie_rna} truktur RNA o genusie 0\")\n",
    "print(\"średnia długość łańcuchów: {:.2f}\".format(mean_rna))\n",
    "print(\"mediana długości łańcuchów: {}\".format(median_rna))"
   ]
  },
  {
   "cell_type": "code",
   "execution_count": 58,
   "metadata": {},
   "outputs": [
    {
     "data": {
      "text/plain": [
       "<AxesSubplot:xlabel='sequence length', ylabel='Count'>"
      ]
     },
     "execution_count": 58,
     "metadata": {},
     "output_type": "execute_result"
    },
    {
     "data": {
      "image/png": "[encoded data removed]",
      "text/plain": [
       "<Figure size 432x288 with 1 Axes>"
      ]
     },
     "metadata": {
      "needs_background": "light"
     },
     "output_type": "display_data"
    }
   ],
   "source": [
    "sns.histplot(rna_small40['sequence length'])"
   ]
  },
  {
   "cell_type": "code",
   "execution_count": null,
   "metadata": {},
   "outputs": [],
   "source": []
  }
 ],
 "metadata": {
  "interpreter": {
   "hash": "8e21aad23134c91a01cf1c539c3885af114ca331ab96a8389137b12ec942ff74"
  },
  "kernelspec": {
   "display_name": "Python 3 (ipykernel)",
   "language": "python",
   "name": "python3"
  },
  "language_info": {
   "codemirror_mode": {
    "name": "ipython",
    "version": 3
   },
   "file_extension": ".py",
   "mimetype": "text/x-python",
   "name": "python",
   "nbconvert_exporter": "python",
   "pygments_lexer": "ipython3",
   "version": "3.8.9"
  }
 },
 "nbformat": 4,
 "nbformat_minor": 2
}
