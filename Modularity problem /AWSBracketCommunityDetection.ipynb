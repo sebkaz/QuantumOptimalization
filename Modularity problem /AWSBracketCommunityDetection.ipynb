{
 "cells": [
  {
   "cell_type": "code",
   "execution_count": 5,
   "metadata": {},
   "outputs": [
    {
     "name": "stdout",
     "output_type": "stream",
     "text": [
      "Requirement already satisfied: dwave-qbsolv in /Users/air/Desktop/QML/venv/lib/python3.8/site-packages (0.3.4)\n",
      "Requirement already satisfied: dimod<0.11.0,>=0.8.1 in /Users/air/Desktop/QML/venv/lib/python3.8/site-packages (from dwave-qbsolv) (0.10.17)\n",
      "Requirement already satisfied: pyparsing<3.0.0,>=2.4.7 in /Users/air/Desktop/QML/venv/lib/python3.8/site-packages (from dimod<0.11.0,>=0.8.1->dwave-qbsolv) (2.4.7)\n",
      "Requirement already satisfied: numpy<2.0.0,>=1.19.1 in /Users/air/Desktop/QML/venv/lib/python3.8/site-packages (from dimod<0.11.0,>=0.8.1->dwave-qbsolv) (1.22.3)\n"
     ]
    }
   ],
   "source": [
    "!pip install dwave-qbsolv"
   ]
  },
  {
   "cell_type": "code",
   "execution_count": null,
   "metadata": {},
   "outputs": [],
   "source": [
    "import minorminer\n",
    "import networkx as nx\n",
    "from dwave_qbsolv import QBSolv\n",
    "from dwave.system.composites import FixedEmbeddingComposite\n",
    "from qbsolv_community import create_qubo_dict\n",
    "\n",
    "my_bucket = \"amazon-braket-Your-Bucket-Name\" # the name of the S3 braket bucket\n",
    "my_prefix = \"Your-Folder-Name\" # the name of the folder in the bucket\n",
    "s3_folder = (my_bucket, my_prefix)\n",
    "\n",
    "qubo_mx = create_qubo_dict(graph, k) # custom function for Eq.8\n",
    "\n",
    "# set solver parameters\n",
    "solver_limit = 100\n",
    "num_repeats = 1\n",
    "num_reads = 1000\n",
    "seed = 1\n",
    "\n",
    "# execute optimization task using QBSolv classical solver\n",
    "response_classical = QBSolv().sample_qubo(qubo_mx, num_repeats=num_repeats, solver_limit=solver_limit, seed=seed)\n",
    "\n",
    "# call QBSolv hybrid classical/quantum solver on D-wave advantage\n",
    "system = BraketDWaveSampler(s3_folder, 'arn:aws:braket:::device/qpu/d-wave/Advantage_system4')\n",
    "\n",
    "# find embedding of subproblem-sized complete graph to the QPU\n",
    "G_sub = nx.complete_graph(solver_limit)\n",
    "embedding = minorminer.find_embedding(G_sub.edges, system.edgelist)\n",
    "\n",
    "# use the FixedEmbeddingComposite() method with a fixed embedding\n",
    "solver = FixedEmbeddingComposite(system, embedding)\n",
    "\n",
    "# execute optimization task using QBSolv hybrid solver\n",
    "response_hybrid = QBSolv().sample_qubo(qubo_mx, solver=solver, num_repeats=num_repeats,solver_limit=solver_limit, num_reads=num_reads, seed=seed)"
   ]
  }
 ],
 "metadata": {
  "interpreter": {
   "hash": "27ac0f061d7d91040222fb9beac2462bed8df7910a608f36ca021d5d927694a6"
  },
  "kernelspec": {
   "display_name": "Python 3.8.9 ('venv': venv)",
   "language": "python",
   "name": "python3"
  },
  "language_info": {
   "codemirror_mode": {
    "name": "ipython",
    "version": 3
   },
   "file_extension": ".py",
   "mimetype": "text/x-python",
   "name": "python",
   "nbconvert_exporter": "python",
   "pygments_lexer": "ipython3",
   "version": "3.8.9"
  },
  "orig_nbformat": 4
 },
 "nbformat": 4,
 "nbformat_minor": 2
}
