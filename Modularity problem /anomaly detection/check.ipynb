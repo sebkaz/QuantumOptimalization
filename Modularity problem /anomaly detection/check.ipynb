{
 "cells": [
  {
   "cell_type": "code",
   "execution_count": 1,
   "metadata": {},
   "outputs": [
    {
     "name": "stdout",
     "output_type": "stream",
     "text": [
      "6\n",
      "0.35714285714285715\n"
     ]
    }
   ],
   "source": [
    "import networkx as nx \n",
    "import networkx.algorithms.community as nx_comm\n",
    "# modularity funkcja - czy parametr resolution ma jakiś wpływ na wynik\n",
    "# graf i jego podzial  \n",
    "\n",
    "def compute_modularity(graph= None, communities=None):\n",
    "    G = nx.barbell_graph(3,0)\n",
    "    print(len(G.nodes))\n",
    "    return nx_comm.modularity(G, [[0,1,2], [3,4,5]])\n",
    "\n",
    "print(compute_modularity())"
   ]
  },
  {
   "cell_type": "code",
   "execution_count": 19,
   "metadata": {},
   "outputs": [],
   "source": [
    "graph = nx.barbell_graph(3,0)"
   ]
  },
  {
   "cell_type": "code",
   "execution_count": 58,
   "metadata": {},
   "outputs": [
    {
     "data": {
      "text/plain": [
       "<networkx.classes.graph.Graph at 0x11625c190>"
      ]
     },
     "execution_count": 58,
     "metadata": {},
     "output_type": "execute_result"
    }
   ],
   "source": [
    "graph"
   ]
  },
  {
   "cell_type": "code",
   "execution_count": 20,
   "metadata": {},
   "outputs": [
    {
     "data": {
      "image/png": "[encoded data removed]",
      "text/plain": [
       "<Figure size 432x288 with 1 Axes>"
      ]
     },
     "metadata": {},
     "output_type": "display_data"
    }
   ],
   "source": [
    "nx.draw(graph)"
   ]
  },
  {
   "cell_type": "code",
   "execution_count": 21,
   "metadata": {},
   "outputs": [],
   "source": [
    "podzial = nx_comm.louvain_communities(graph)"
   ]
  },
  {
   "cell_type": "code",
   "execution_count": 30,
   "metadata": {},
   "outputs": [
    {
     "data": {
      "text/plain": [
       "[{0, 1, 2}, {3, 4, 5}]"
      ]
     },
     "execution_count": 30,
     "metadata": {},
     "output_type": "execute_result"
    }
   ],
   "source": [
    "podzial"
   ]
  },
  {
   "cell_type": "code",
   "execution_count": 42,
   "metadata": {},
   "outputs": [],
   "source": [
    "import numpy as np\n",
    "p = np.array(podzial)"
   ]
  },
  {
   "cell_type": "code",
   "execution_count": 51,
   "metadata": {},
   "outputs": [
    {
     "data": {
      "text/plain": [
       "[{3, 4, 5}]"
      ]
     },
     "execution_count": 51,
     "metadata": {},
     "output_type": "execute_result"
    }
   ],
   "source": [
    "[ e for e in p if 0 not in e ]"
   ]
  },
  {
   "cell_type": "code",
   "execution_count": 56,
   "metadata": {},
   "outputs": [],
   "source": [
    "result = []\n",
    "for el in p:\n",
    "    if 0 not in el:\n",
    "        result.append(el)\n",
    "    else:\n",
    "        w = set()\n",
    "        for x in el:\n",
    "            if x != 0:\n",
    "                w.add(x)\n",
    "        result.append(w)\n",
    "                \n",
    "        "
   ]
  },
  {
   "cell_type": "code",
   "execution_count": 57,
   "metadata": {},
   "outputs": [
    {
     "data": {
      "text/plain": [
       "[{1, 2}, {3, 4, 5}]"
      ]
     },
     "execution_count": 57,
     "metadata": {},
     "output_type": "execute_result"
    }
   ],
   "source": [
    "result"
   ]
  },
  {
   "cell_type": "code",
   "execution_count": 28,
   "metadata": {},
   "outputs": [],
   "source": [
    "def cm(G, podzial, alpha):\n",
    "    # oblicz modularity dla calego grafu \n",
    "    modularity_full = nx_comm.modularity(G, podzial)\n",
    "    modularities = []\n",
    "    for node in G.nodes:\n",
    "        new_G = G.copy()\n",
    "        print(f\"before remove node: {node}\")\n",
    "        print(new_G.nodes)\n",
    "        print(f\"modularity: {modularity_full}\")\n",
    "        new_G.remove_node(node)\n",
    "        print(f\"after remove node: {node}\")\n",
    "        print(new_G.nodes)\n",
    "        print(f\"modularity without {node} element: { nx_comm.modularity(new_G, podzial) }\")\n",
    "    # oblicz nasza wielkosc dla calego grafu (mod przesunięte o alpha)\n",
    "    nasza_wielkosc = modularity_full + alpha\n",
    "    nasze_wyniki = []\n",
    "    \n",
    "    return modularity_full, nasza_wielkosc"
   ]
  },
  {
   "cell_type": "code",
   "execution_count": 29,
   "metadata": {},
   "outputs": [
    {
     "name": "stdout",
     "output_type": "stream",
     "text": [
      "before remove node: 0\n",
      "[0, 1, 2, 3, 4, 5]\n",
      "modularity: 0.35714285714285715\n",
      "after remove node: 0\n",
      "[1, 2, 3, 4, 5]\n"
     ]
    },
    {
     "ename": "NotAPartition",
     "evalue": "Graph with 5 nodes and 5 edges is not a valid partition of the graph [{0, 1, 2}, {3, 4, 5}]",
     "output_type": "error",
     "traceback": [
      "\u001b[0;31m---------------------------------------------------------------------------\u001b[0m",
      "\u001b[0;31mNotAPartition\u001b[0m                             Traceback (most recent call last)",
      "\u001b[1;32m/Users/air/Desktop/Project/check.ipynb Cell 7'\u001b[0m in \u001b[0;36m<cell line: 1>\u001b[0;34m()\u001b[0m\n\u001b[0;32m----> <a href='vscode-notebook-cell:/Users/air/Desktop/Project/check.ipynb#ch0000009?line=0'>1</a>\u001b[0m cm(graph, podzial, \u001b[39m0.1\u001b[39;49m)\n",
      "\u001b[1;32m/Users/air/Desktop/Project/check.ipynb Cell 6'\u001b[0m in \u001b[0;36mcm\u001b[0;34m(G, podzial, alpha)\u001b[0m\n\u001b[1;32m     <a href='vscode-notebook-cell:/Users/air/Desktop/Project/check.ipynb#ch0000010?line=10'>11</a>\u001b[0m     \u001b[39mprint\u001b[39m(\u001b[39mf\u001b[39m\u001b[39m\"\u001b[39m\u001b[39mafter remove node: \u001b[39m\u001b[39m{\u001b[39;00mnode\u001b[39m}\u001b[39;00m\u001b[39m\"\u001b[39m)\n\u001b[1;32m     <a href='vscode-notebook-cell:/Users/air/Desktop/Project/check.ipynb#ch0000010?line=11'>12</a>\u001b[0m     \u001b[39mprint\u001b[39m(new_G\u001b[39m.\u001b[39mnodes)\n\u001b[0;32m---> <a href='vscode-notebook-cell:/Users/air/Desktop/Project/check.ipynb#ch0000010?line=12'>13</a>\u001b[0m     \u001b[39mprint\u001b[39m(\u001b[39mf\u001b[39m\u001b[39m\"\u001b[39m\u001b[39mmodularity without \u001b[39m\u001b[39m{\u001b[39;00mnode\u001b[39m}\u001b[39;00m\u001b[39m element: \u001b[39m\u001b[39m{\u001b[39;00m nx_comm\u001b[39m.\u001b[39mmodularity(new_G, podzial) \u001b[39m}\u001b[39;00m\u001b[39m\"\u001b[39m)\n\u001b[1;32m     <a href='vscode-notebook-cell:/Users/air/Desktop/Project/check.ipynb#ch0000010?line=13'>14</a>\u001b[0m \u001b[39m# oblicz nasza wielkosc dla calego grafu (mod przesunięte o alpha)\u001b[39;00m\n\u001b[1;32m     <a href='vscode-notebook-cell:/Users/air/Desktop/Project/check.ipynb#ch0000010?line=14'>15</a>\u001b[0m nasza_wielkosc \u001b[39m=\u001b[39m modularity_full \u001b[39m+\u001b[39m alpha\n",
      "File \u001b[0;32m~/Desktop/Project/venv/lib/python3.8/site-packages/networkx/algorithms/community/quality.py:330\u001b[0m, in \u001b[0;36mmodularity\u001b[0;34m(G, communities, weight, resolution)\u001b[0m\n\u001b[1;32m    328\u001b[0m     communities \u001b[39m=\u001b[39m \u001b[39mlist\u001b[39m(communities)\n\u001b[1;32m    329\u001b[0m \u001b[39mif\u001b[39;00m \u001b[39mnot\u001b[39;00m is_partition(G, communities):\n\u001b[0;32m--> 330\u001b[0m     \u001b[39mraise\u001b[39;00m NotAPartition(G, communities)\n\u001b[1;32m    332\u001b[0m directed \u001b[39m=\u001b[39m G\u001b[39m.\u001b[39mis_directed()\n\u001b[1;32m    333\u001b[0m \u001b[39mif\u001b[39;00m directed:\n",
      "\u001b[0;31mNotAPartition\u001b[0m: Graph with 5 nodes and 5 edges is not a valid partition of the graph [{0, 1, 2}, {3, 4, 5}]"
     ]
    }
   ],
   "source": [
    "cm(graph, podzial, 0.1)"
   ]
  },
  {
   "cell_type": "code",
   "execution_count": 27,
   "metadata": {},
   "outputs": [
    {
     "data": {
      "text/plain": [
       "NodeView((0, 1, 2, 3, 4, 5))"
      ]
     },
     "execution_count": 27,
     "metadata": {},
     "output_type": "execute_result"
    }
   ],
   "source": [
    "graph.nodes"
   ]
  },
  {
   "cell_type": "code",
   "execution_count": 16,
   "metadata": {},
   "outputs": [
    {
     "name": "stdout",
     "output_type": "stream",
     "text": [
      "0\n"
     ]
    },
    {
     "ename": "AttributeError",
     "evalue": "'NoneType' object has no attribute 'nodes'",
     "output_type": "error",
     "traceback": [
      "\u001b[0;31m---------------------------------------------------------------------------\u001b[0m",
      "\u001b[0;31mAttributeError\u001b[0m                            Traceback (most recent call last)",
      "\u001b[1;32m/Users/air/Desktop/Project/check.ipynb Cell 9'\u001b[0m in \u001b[0;36m<cell line: 1>\u001b[0;34m()\u001b[0m\n\u001b[1;32m      <a href='vscode-notebook-cell:/Users/air/Desktop/Project/check.ipynb#ch0000013?line=1'>2</a>\u001b[0m a \u001b[39m=\u001b[39m graph\u001b[39m.\u001b[39mremove_node(el)\n\u001b[1;32m      <a href='vscode-notebook-cell:/Users/air/Desktop/Project/check.ipynb#ch0000013?line=2'>3</a>\u001b[0m \u001b[39mprint\u001b[39m(el)\n\u001b[0;32m----> <a href='vscode-notebook-cell:/Users/air/Desktop/Project/check.ipynb#ch0000013?line=3'>4</a>\u001b[0m \u001b[39mprint\u001b[39m(a\u001b[39m.\u001b[39;49mnodes)\n",
      "\u001b[0;31mAttributeError\u001b[0m: 'NoneType' object has no attribute 'nodes'"
     ]
    }
   ],
   "source": [
    "for el in range(len(graph.nodes)):\n",
    "    print(el)\n",
    "    a = graph.remove_node(el)\n",
    "    \n",
    "    print(a.nodes)"
   ]
  },
  {
   "cell_type": "code",
   "execution_count": 11,
   "metadata": {},
   "outputs": [],
   "source": [
    "graph.remove_node(0)"
   ]
  },
  {
   "cell_type": "code",
   "execution_count": 12,
   "metadata": {},
   "outputs": [
    {
     "data": {
      "text/plain": [
       "NodeView((1, 2, 3, 4, 5))"
      ]
     },
     "execution_count": 12,
     "metadata": {},
     "output_type": "execute_result"
    }
   ],
   "source": [
    "graph.nodes"
   ]
  },
  {
   "cell_type": "code",
   "execution_count": 2,
   "metadata": {},
   "outputs": [],
   "source": [
    "def cm(graph, comms, lam):\n",
    "\n",
    "    return nx_comm.modularity(graph, comms) + lam*len(graph.nodes)\n",
    "\n",
    "def compute_num(lam):\n",
    "    \n",
    "    graph = nx.barbell_graph(3,0)\n",
    "    results = []\n",
    "    nody = list(graph.nodes)\n",
    "    ile = len(nody)\n",
    "    while ile-1:\n",
    "        podzial = nx_comm.louvain_communities(graph)\n",
    "        nasza_wielkosc = cm(graph, podzial, lam)\n",
    "        results.append(nasza_wielkosc)\n",
    "        usun = -1*ile\n",
    "        graph.remove_node(nody[usun])\n",
    "        ile -= 1\n",
    "\n",
    "    return results"
   ]
  },
  {
   "cell_type": "code",
   "execution_count": 3,
   "metadata": {},
   "outputs": [
    {
     "data": {
      "text/plain": [
       "[[0.9571428571428573, 0.72, 0.4, 0.30000000000000004, 0.2],\n",
       " [1.5571428571428574, 1.22, 0.8, 0.6000000000000001, 0.4],\n",
       " [2.157142857142857, 1.72, 1.2, 0.8999999999999999, 0.6],\n",
       " [2.7571428571428576, 2.22, 1.6, 1.2000000000000002, 0.8],\n",
       " [3.357142857142857, 2.72, 2.0, 1.5, 1.0],\n",
       " [3.957142857142857, 3.22, 2.4, 1.7999999999999998, 1.2],\n",
       " [4.557142857142856, 3.72, 2.8, 2.0999999999999996, 1.4],\n",
       " [5.1571428571428575, 4.22, 3.2, 2.4000000000000004, 1.6],\n",
       " [5.757142857142857, 4.72, 3.6, 2.7, 1.8]]"
      ]
     },
     "execution_count": 3,
     "metadata": {},
     "output_type": "execute_result"
    }
   ],
   "source": [
    "[compute_num(x) for x in [0.1, 0.2, 0.3, 0.4, 0.5, 0.6, 0.7, 0.8, 0.9]]"
   ]
  },
  {
   "cell_type": "code",
   "execution_count": null,
   "metadata": {},
   "outputs": [],
   "source": []
  }
 ],
 "metadata": {
  "kernelspec": {
   "display_name": "Python 3.8.9 ('venv': venv)",
   "language": "python",
   "name": "python3"
  },
  "language_info": {
   "codemirror_mode": {
    "name": "ipython",
    "version": 3
   },
   "file_extension": ".py",
   "mimetype": "text/x-python",
   "name": "python",
   "nbconvert_exporter": "python",
   "pygments_lexer": "ipython3",
   "version": "3.8.9"
  },
  "orig_nbformat": 4,
  "vscode": {
   "interpreter": {
    "hash": "3669dff400a5ff0a2df5937bcdec28ffab8d715756d5f2f12e2d7ac7b3d2d5df"
   }
  }
 },
 "nbformat": 4,
 "nbformat_minor": 2
}
